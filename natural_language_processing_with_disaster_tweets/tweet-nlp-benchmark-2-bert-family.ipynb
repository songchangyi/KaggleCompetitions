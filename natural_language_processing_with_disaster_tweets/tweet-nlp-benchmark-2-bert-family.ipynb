{
 "cells": [
  {
   "cell_type": "markdown",
   "metadata": {
    "_cell_guid": "b1076dfc-b9ad-4769-8c92-a6c4dae69d19",
    "_uuid": "8f2839f25d086af736a60e9eeb907d3b93b6e0e5",
    "papermill": {
     "duration": 0.010244,
     "end_time": "2021-01-24T17:31:07.791834",
     "exception": false,
     "start_time": "2021-01-24T17:31:07.781590",
     "status": "completed"
    },
    "tags": []
   },
   "source": [
    "This is an addition to my previous work :\n",
    "* [[Tweet NLP Benchmark 1] CNN RNN with GloVe](https://www.kaggle.com/vicioussong/tweet-nlp-benchmark-1-cnn-rnn-with-glove)\n",
    "\n",
    "This work is a Benchmark for comparing Elmo and Bert Family. I focused on the indicators below : \n",
    "* Performance (F1 / Precision / Recall)\n",
    "* Training / Inference speed\n",
    "* Model size\n",
    "\n",
    "My work is inspired by and based on the following notebooks :\n",
    "* [NLP (Disaster Tweets) with Glove and LSTM](https://www.kaggle.com/mariapushkareva/nlp-disaster-tweets-with-glove-and-lstm)\n",
    "* [Disaster NLP: Keras BERT using TFHub](https://www.kaggle.com/xhlulu/disaster-nlp-keras-bert-using-tfhub)"
   ]
  },
  {
   "cell_type": "markdown",
   "metadata": {
    "papermill": {
     "duration": 0.008658,
     "end_time": "2021-01-24T17:31:07.809536",
     "exception": false,
     "start_time": "2021-01-24T17:31:07.800878",
     "status": "completed"
    },
    "tags": []
   },
   "source": [
    "## 0 - Benchmark"
   ]
  },
  {
   "cell_type": "markdown",
   "metadata": {
    "papermill": {
     "duration": 0.009236,
     "end_time": "2021-01-24T17:31:07.827761",
     "exception": false,
     "start_time": "2021-01-24T17:31:07.818525",
     "status": "completed"
    },
    "tags": []
   },
   "source": [
    "| Model           | F1   | Precision | Recall | Training Time | Inference Time |\n",
    "|-----------------|------|-----------|--------|---------------|----------------|\n",
    "| DistilBert Base | 0.78 | 0.83      | 0.74   | 198.1 s       | 3.9 ms         |\n",
    "| AlBert Base     | 0.79 | 0.78      | 0.81   | 371.0 s       | 7.9 ms         |\n",
    "| AlBert Large    | 0.78 | 0.84      | 0.73   | 1022.9 s      | 21.6 ms        |\n",
    "| Bert Base       | 0.8  | 0.79      | 0.82   | 368.2 s       | 8.3 ms         |\n",
    "| Bert Large      | 0.78 | 0.74      | 0.83   | 1060.9 s      | 21.7 ms        |\n",
    "| RoBERTa Base    | 0.78 | 0.73      | 0.85   | 390.3         | 8.3 ms         |"
   ]
  },
  {
   "cell_type": "markdown",
   "metadata": {
    "papermill": {
     "duration": 0.009234,
     "end_time": "2021-01-24T17:31:07.846123",
     "exception": false,
     "start_time": "2021-01-24T17:31:07.836889",
     "status": "completed"
    },
    "tags": []
   },
   "source": [
    "* Is there a winner in terms of F1 in this task ? <span style=\"color:red\">Not really.</span>\n",
    "* In similar classification tasks, which model is more suitable to use, especially in a production environment ? <span style=\"color:red\">DistilBert could be a good choice. It gives acceptable results with a relatively short delay.</span>"
   ]
  },
  {
   "cell_type": "markdown",
   "metadata": {
    "papermill": {
     "duration": 0.008687,
     "end_time": "2021-01-24T17:31:07.863750",
     "exception": false,
     "start_time": "2021-01-24T17:31:07.855063",
     "status": "completed"
    },
    "tags": []
   },
   "source": [
    "## 1 - Import"
   ]
  },
  {
   "cell_type": "code",
   "execution_count": 1,
   "metadata": {
    "execution": {
     "iopub.execute_input": "2021-01-24T17:31:07.889668Z",
     "iopub.status.busy": "2021-01-24T17:31:07.889078Z",
     "iopub.status.idle": "2021-01-24T17:31:16.503527Z",
     "shell.execute_reply": "2021-01-24T17:31:16.502992Z"
    },
    "papermill": {
     "duration": 8.630953,
     "end_time": "2021-01-24T17:31:16.503642",
     "exception": false,
     "start_time": "2021-01-24T17:31:07.872689",
     "status": "completed"
    },
    "tags": []
   },
   "outputs": [],
   "source": [
    "import os\n",
    "import time\n",
    "\n",
    "import warnings\n",
    "warnings.filterwarnings('ignore')\n",
    "\n",
    "import numpy as np\n",
    "import pandas as pd\n",
    "\n",
    "import transformers\n",
    "import tensorflow as tf\n",
    "from tensorflow.keras.models import Model\n",
    "from tensorflow.keras.optimizers import Adam\n",
    "from tensorflow.keras.layers import Dense, Input\n",
    "from tensorflow.keras.callbacks import ModelCheckpoint\n",
    "\n",
    "from sklearn.model_selection import train_test_split\n",
    "from sklearn.metrics import precision_score, recall_score, f1_score"
   ]
  },
  {
   "cell_type": "markdown",
   "metadata": {
    "papermill": {
     "duration": 0.008999,
     "end_time": "2021-01-24T17:31:16.522543",
     "exception": false,
     "start_time": "2021-01-24T17:31:16.513544",
     "status": "completed"
    },
    "tags": []
   },
   "source": [
    "## 2 - Load & Proprocess"
   ]
  },
  {
   "cell_type": "code",
   "execution_count": 2,
   "metadata": {
    "execution": {
     "iopub.execute_input": "2021-01-24T17:31:16.551354Z",
     "iopub.status.busy": "2021-01-24T17:31:16.550617Z",
     "iopub.status.idle": "2021-01-24T17:31:16.556736Z",
     "shell.execute_reply": "2021-01-24T17:31:16.557108Z"
    },
    "papermill": {
     "duration": 0.025497,
     "end_time": "2021-01-24T17:31:16.557206",
     "exception": false,
     "start_time": "2021-01-24T17:31:16.531709",
     "status": "completed"
    },
    "tags": []
   },
   "outputs": [],
   "source": [
    "def bert_encode(texts, tokenizer, max_len=512):\n",
    "    all_tokens = []\n",
    "    \n",
    "    for text in texts:\n",
    "        text = tokenizer.tokenize(text)\n",
    "            \n",
    "        text = text[:max_len-2]\n",
    "        input_sequence = [\"[CLS]\"] + text + [\"[SEP]\"]\n",
    "        pad_len = max_len - len(input_sequence)\n",
    "        \n",
    "        tokens = tokenizer.convert_tokens_to_ids(input_sequence)\n",
    "        tokens += [0] * pad_len\n",
    "        pad_masks = [1] * len(input_sequence) + [0] * pad_len\n",
    "        segment_ids = [0] * max_len\n",
    "        \n",
    "        all_tokens.append(tokens)\n",
    "    \n",
    "    return np.array(all_tokens)\n",
    "\n",
    "def build_model(transformer, max_len=512):\n",
    "    input_word_ids = Input(shape=(max_len,), dtype=tf.int32, name=\"input_word_ids\")\n",
    "    sequence_output = transformer(input_word_ids)[0]\n",
    "    cls_token = sequence_output[:, 0, :]\n",
    "    out = Dense(1, activation='sigmoid')(cls_token)\n",
    "    \n",
    "    model = Model(inputs=input_word_ids, outputs=out)\n",
    "    model.compile(Adam(lr=1e-5), loss='binary_crossentropy', metrics=['accuracy'])\n",
    "    \n",
    "    return model"
   ]
  },
  {
   "cell_type": "code",
   "execution_count": 3,
   "metadata": {
    "execution": {
     "iopub.execute_input": "2021-01-24T17:31:16.584485Z",
     "iopub.status.busy": "2021-01-24T17:31:16.583920Z",
     "iopub.status.idle": "2021-01-24T17:31:16.651513Z",
     "shell.execute_reply": "2021-01-24T17:31:16.650548Z"
    },
    "papermill": {
     "duration": 0.084793,
     "end_time": "2021-01-24T17:31:16.651625",
     "exception": false,
     "start_time": "2021-01-24T17:31:16.566832",
     "status": "completed"
    },
    "tags": []
   },
   "outputs": [],
   "source": [
    "train = pd.read_csv(\"/kaggle/input/nlp-getting-started/train.csv\")\n",
    "test  = pd.read_csv(\"/kaggle/input/nlp-getting-started/test.csv\")\n",
    "submission = pd.read_csv(\"/kaggle/input/nlp-getting-started/sample_submission.csv\")"
   ]
  },
  {
   "cell_type": "code",
   "execution_count": 4,
   "metadata": {
    "execution": {
     "iopub.execute_input": "2021-01-24T17:31:16.683003Z",
     "iopub.status.busy": "2021-01-24T17:31:16.682224Z",
     "iopub.status.idle": "2021-01-24T17:31:53.365007Z",
     "shell.execute_reply": "2021-01-24T17:31:53.365385Z"
    },
    "papermill": {
     "duration": 36.70432,
     "end_time": "2021-01-24T17:31:53.365543",
     "exception": false,
     "start_time": "2021-01-24T17:31:16.661223",
     "status": "completed"
    },
    "tags": []
   },
   "outputs": [
    {
     "data": {
      "application/vnd.jupyter.widget-view+json": {
       "model_id": "219a43dc1c0e450b907e49ab754cbc95",
       "version_major": 2,
       "version_minor": 0
      },
      "text/plain": [
       "HBox(children=(FloatProgress(value=0.0, description='Downloading', max=433.0, style=ProgressStyle(description_…"
      ]
     },
     "metadata": {},
     "output_type": "display_data"
    },
    {
     "name": "stdout",
     "output_type": "stream",
     "text": [
      "\n"
     ]
    },
    {
     "data": {
      "application/vnd.jupyter.widget-view+json": {
       "model_id": "cc337d0d179244d89e7f2bfa7d6b6bea",
       "version_major": 2,
       "version_minor": 0
      },
      "text/plain": [
       "HBox(children=(FloatProgress(value=0.0, description='Downloading', max=536063208.0, style=ProgressStyle(descri…"
      ]
     },
     "metadata": {},
     "output_type": "display_data"
    },
    {
     "name": "stdout",
     "output_type": "stream",
     "text": [
      "\n"
     ]
    },
    {
     "name": "stderr",
     "output_type": "stream",
     "text": [
      "Some layers from the model checkpoint at bert-base-uncased were not used when initializing TFBertModel: ['nsp___cls', 'mlm___cls']\n",
      "- This IS expected if you are initializing TFBertModel from the checkpoint of a model trained on another task or with another architecture (e.g. initializing a BertForSequenceClassification model from a BertForPreTraining model).\n",
      "- This IS NOT expected if you are initializing TFBertModel from the checkpoint of a model that you expect to be exactly identical (initializing a BertForSequenceClassification model from a BertForSequenceClassification model).\n",
      "All the layers of TFBertModel were initialized from the model checkpoint at bert-base-uncased.\n",
      "If your task is similar to the task the model of the checkpoint was trained on, you can already use TFBertModel for predictions without further training.\n"
     ]
    },
    {
     "data": {
      "application/vnd.jupyter.widget-view+json": {
       "model_id": "531917b2aa0e4904b99e953bfab6b9a2",
       "version_major": 2,
       "version_minor": 0
      },
      "text/plain": [
       "HBox(children=(FloatProgress(value=0.0, description='Downloading', max=231508.0, style=ProgressStyle(descripti…"
      ]
     },
     "metadata": {},
     "output_type": "display_data"
    },
    {
     "name": "stdout",
     "output_type": "stream",
     "text": [
      "\n",
      "CPU times: user 16.3 s, sys: 3.6 s, total: 19.9 s\n",
      "Wall time: 36.7 s\n"
     ]
    }
   ],
   "source": [
    "%%time\n",
    "# Distil Bert Base\n",
    "# model_to_use = 'distilbert-base-uncased'\n",
    "\n",
    "# model_to_use = 'albert-base-v1'\n",
    "# model_to_use = 'albert-large-v1'\n",
    "# model_to_use = 'albert-xlarge-v1'\n",
    "# model_to_use = 'albert-xxlarge-v1'\n",
    "\n",
    "model_to_use = 'bert-base-uncased'\n",
    "# model_to_use = 'bert-large-uncased'\n",
    "\n",
    "# model_to_use = 'roberta-base'\n",
    "# model_to_use = 'roberta-large'\n",
    "\n",
    "if model_to_use.split('-')[0] == 'distilbert':\n",
    "    transformer_layer = transformers.TFDistilBertModel.from_pretrained(model_to_use)\n",
    "    tokenizer = transformers.DistilBertTokenizer.from_pretrained(model_to_use)\n",
    "    \n",
    "if model_to_use.split('-')[0] == 'albert':\n",
    "    transformer_layer = transformers.TFAlbertModel.from_pretrained(model_to_use)\n",
    "    tokenizer = transformers.AlbertTokenizer.from_pretrained(model_to_use)\n",
    "    \n",
    "if model_to_use.split('-')[0] == 'bert':\n",
    "    transformer_layer = transformers.TFBertModel.from_pretrained(model_to_use)\n",
    "    tokenizer = transformers.BertTokenizer.from_pretrained(model_to_use)\n",
    "    \n",
    "if model_to_use.split('-')[0] == 'roberta':\n",
    "    transformer_layer = transformers.TFRobertaModel.from_pretrained(model_to_use)\n",
    "    tokenizer = transformers.RobertaTokenizer.from_pretrained(model_to_use)"
   ]
  },
  {
   "cell_type": "code",
   "execution_count": 5,
   "metadata": {
    "execution": {
     "iopub.execute_input": "2021-01-24T17:31:53.420962Z",
     "iopub.status.busy": "2021-01-24T17:31:53.404554Z",
     "iopub.status.idle": "2021-01-24T17:32:01.061345Z",
     "shell.execute_reply": "2021-01-24T17:32:01.060634Z"
    },
    "papermill": {
     "duration": 7.683427,
     "end_time": "2021-01-24T17:32:01.061481",
     "exception": false,
     "start_time": "2021-01-24T17:31:53.378054",
     "status": "completed"
    },
    "tags": []
   },
   "outputs": [],
   "source": [
    "max_seq_len = 160\n",
    "\n",
    "train_input = bert_encode(train.text.values, tokenizer, max_len=max_seq_len)\n",
    "test_input  = bert_encode(test.text.values, tokenizer, max_len=max_seq_len)\n",
    "train_label = train.target.values\n",
    "\n",
    "# Data split\n",
    "X_train, X_test, y_train, y_test = train_test_split(train_input, \n",
    "                                                    train_label, \n",
    "                                                    test_size=0.25,\n",
    "                                                    random_state=42, \n",
    "                                                    shuffle=True)\n",
    "# X_train.shape, X_test.shape = ((5709, 160), (1904, 160))"
   ]
  },
  {
   "cell_type": "markdown",
   "metadata": {
    "papermill": {
     "duration": 0.012371,
     "end_time": "2021-01-24T17:32:01.086468",
     "exception": false,
     "start_time": "2021-01-24T17:32:01.074097",
     "status": "completed"
    },
    "tags": []
   },
   "source": [
    "## 3 - Modeling"
   ]
  },
  {
   "cell_type": "code",
   "execution_count": 6,
   "metadata": {
    "execution": {
     "iopub.execute_input": "2021-01-24T17:32:01.116926Z",
     "iopub.status.busy": "2021-01-24T17:32:01.116333Z",
     "iopub.status.idle": "2021-01-24T17:32:01.120281Z",
     "shell.execute_reply": "2021-01-24T17:32:01.119867Z"
    },
    "papermill": {
     "duration": 0.021564,
     "end_time": "2021-01-24T17:32:01.120360",
     "exception": false,
     "start_time": "2021-01-24T17:32:01.098796",
     "status": "completed"
    },
    "tags": []
   },
   "outputs": [],
   "source": [
    "def metrics(y_true, y_pred):\n",
    "    print(\"\\nF1-score: \", round(f1_score(y_true, y_pred), 2))\n",
    "    print(\"Precision: \", round(precision_score(y_true, y_pred), 2))\n",
    "    print(\"Recall: \", round(recall_score(y_true, y_pred), 2))"
   ]
  },
  {
   "cell_type": "code",
   "execution_count": 7,
   "metadata": {
    "execution": {
     "iopub.execute_input": "2021-01-24T17:32:01.150765Z",
     "iopub.status.busy": "2021-01-24T17:32:01.149561Z",
     "iopub.status.idle": "2021-01-24T17:32:04.550210Z",
     "shell.execute_reply": "2021-01-24T17:32:04.549748Z"
    },
    "papermill": {
     "duration": 3.41726,
     "end_time": "2021-01-24T17:32:04.550302",
     "exception": false,
     "start_time": "2021-01-24T17:32:01.133042",
     "status": "completed"
    },
    "tags": []
   },
   "outputs": [
    {
     "name": "stdout",
     "output_type": "stream",
     "text": [
      "Model: \"functional_1\"\n",
      "_________________________________________________________________\n",
      "Layer (type)                 Output Shape              Param #   \n",
      "=================================================================\n",
      "input_word_ids (InputLayer)  [(None, 160)]             0         \n",
      "_________________________________________________________________\n",
      "tf_bert_model (TFBertModel)  ((None, 160, 768), (None, 109482240 \n",
      "_________________________________________________________________\n",
      "tf_op_layer_strided_slice (T [(None, 768)]             0         \n",
      "_________________________________________________________________\n",
      "dense (Dense)                (None, 1)                 769       \n",
      "=================================================================\n",
      "Total params: 109,483,009\n",
      "Trainable params: 109,483,009\n",
      "Non-trainable params: 0\n",
      "_________________________________________________________________\n"
     ]
    }
   ],
   "source": [
    "model = build_model(transformer_layer, max_len=160)\n",
    "model.summary()"
   ]
  },
  {
   "cell_type": "code",
   "execution_count": 8,
   "metadata": {
    "execution": {
     "iopub.execute_input": "2021-01-24T17:32:04.582387Z",
     "iopub.status.busy": "2021-01-24T17:32:04.581873Z",
     "iopub.status.idle": "2021-01-24T17:39:00.521830Z",
     "shell.execute_reply": "2021-01-24T17:39:00.521282Z"
    },
    "papermill": {
     "duration": 415.958213,
     "end_time": "2021-01-24T17:39:00.521935",
     "exception": false,
     "start_time": "2021-01-24T17:32:04.563722",
     "status": "completed"
    },
    "tags": []
   },
   "outputs": [
    {
     "name": "stdout",
     "output_type": "stream",
     "text": [
      "Epoch 1/3\n",
      "714/714 [==============================] - 134s 187ms/step - loss: 0.4535 - accuracy: 0.7940\n",
      "Epoch 2/3\n",
      "714/714 [==============================] - 134s 187ms/step - loss: 0.3380 - accuracy: 0.8599\n",
      "Epoch 3/3\n",
      "714/714 [==============================] - 134s 187ms/step - loss: 0.2656 - accuracy: 0.8944\n",
      "\n",
      "=>Training time : 415.9 s\n"
     ]
    }
   ],
   "source": [
    "# Training\n",
    "start_time = time.time()\n",
    "train_history = model.fit(X_train, y_train, epochs = 3, batch_size = 8)\n",
    "end_time = time.time()\n",
    "print(\"\\n=>Training time :\", round(end_time - start_time, 1), 's')"
   ]
  },
  {
   "cell_type": "code",
   "execution_count": 9,
   "metadata": {
    "execution": {
     "iopub.execute_input": "2021-01-24T17:39:01.744472Z",
     "iopub.status.busy": "2021-01-24T17:39:01.743648Z",
     "iopub.status.idle": "2021-01-24T17:39:16.937391Z",
     "shell.execute_reply": "2021-01-24T17:39:16.937884Z"
    },
    "papermill": {
     "duration": 15.806075,
     "end_time": "2021-01-24T17:39:16.938008",
     "exception": false,
     "start_time": "2021-01-24T17:39:01.131933",
     "status": "completed"
    },
    "tags": []
   },
   "outputs": [
    {
     "name": "stdout",
     "output_type": "stream",
     "text": [
      "60/60 [==============================] - 12s 205ms/step\n",
      "\n",
      "=>Average Inference Time : 8.0 ms\n",
      "\n",
      "F1-score:  0.79\n",
      "Precision:  0.84\n",
      "Recall:  0.74\n"
     ]
    }
   ],
   "source": [
    "# Validation\n",
    "start_time = time.time()\n",
    "test_pred = model.predict(X_test, verbose=1).round().astype(int)\n",
    "end_time = time.time()\n",
    "\n",
    "print('\\n=>Average Inference Time :', round((end_time - start_time) / len(test_pred) * 1000, 1), 'ms')\n",
    "metrics(y_test, test_pred)"
   ]
  },
  {
   "cell_type": "markdown",
   "metadata": {
    "papermill": {
     "duration": 0.661653,
     "end_time": "2021-01-24T17:39:18.226248",
     "exception": false,
     "start_time": "2021-01-24T17:39:17.564595",
     "status": "completed"
    },
    "tags": []
   },
   "source": [
    "## 4 - Submission"
   ]
  },
  {
   "cell_type": "code",
   "execution_count": 10,
   "metadata": {
    "execution": {
     "iopub.execute_input": "2021-01-24T17:39:19.714331Z",
     "iopub.status.busy": "2021-01-24T17:39:19.713336Z",
     "iopub.status.idle": "2021-01-24T17:39:41.286962Z",
     "shell.execute_reply": "2021-01-24T17:39:41.285626Z"
    },
    "papermill": {
     "duration": 22.215607,
     "end_time": "2021-01-24T17:39:41.287069",
     "exception": false,
     "start_time": "2021-01-24T17:39:19.071462",
     "status": "completed"
    },
    "tags": []
   },
   "outputs": [
    {
     "name": "stdout",
     "output_type": "stream",
     "text": [
      "102/102 [==============================] - 21s 207ms/step\n"
     ]
    }
   ],
   "source": [
    "submission['target'] = model.predict(test_input, verbose=1).round().astype(int)\n",
    "submission.to_csv('submission.csv', index=False)"
   ]
  }
 ],
 "metadata": {
  "kernelspec": {
   "display_name": "Python 3",
   "language": "python",
   "name": "python3"
  },
  "language_info": {
   "codemirror_mode": {
    "name": "ipython",
    "version": 3
   },
   "file_extension": ".py",
   "mimetype": "text/x-python",
   "name": "python",
   "nbconvert_exporter": "python",
   "pygments_lexer": "ipython3",
   "version": "3.7.6"
  },
  "papermill": {
   "duration": 519.923062,
   "end_time": "2021-01-24T17:39:43.782232",
   "environment_variables": {},
   "exception": null,
   "input_path": "__notebook__.ipynb",
   "output_path": "__notebook__.ipynb",
   "parameters": {},
   "start_time": "2021-01-24T17:31:03.859170",
   "version": "2.1.0"
  },
  "widgets": {
   "application/vnd.jupyter.widget-state+json": {
    "state": {
     "02ed4b0ff36c41158dc207f21ccdfe93": {
      "model_module": "@jupyter-widgets/controls",
      "model_module_version": "1.5.0",
      "model_name": "ProgressStyleModel",
      "state": {
       "_model_module": "@jupyter-widgets/controls",
       "_model_module_version": "1.5.0",
       "_model_name": "ProgressStyleModel",
       "_view_count": null,
       "_view_module": "@jupyter-widgets/base",
       "_view_module_version": "1.2.0",
       "_view_name": "StyleView",
       "bar_color": null,
       "description_width": "initial"
      }
     },
     "0ff8bbd97d7849c7ab49cbdaf0a7213d": {
      "model_module": "@jupyter-widgets/base",
      "model_module_version": "1.2.0",
      "model_name": "LayoutModel",
      "state": {
       "_model_module": "@jupyter-widgets/base",
       "_model_module_version": "1.2.0",
       "_model_name": "LayoutModel",
       "_view_count": null,
       "_view_module": "@jupyter-widgets/base",
       "_view_module_version": "1.2.0",
       "_view_name": "LayoutView",
       "align_content": null,
       "align_items": null,
       "align_self": null,
       "border": null,
       "bottom": null,
       "display": null,
       "flex": null,
       "flex_flow": null,
       "grid_area": null,
       "grid_auto_columns": null,
       "grid_auto_flow": null,
       "grid_auto_rows": null,
       "grid_column": null,
       "grid_gap": null,
       "grid_row": null,
       "grid_template_areas": null,
       "grid_template_columns": null,
       "grid_template_rows": null,
       "height": null,
       "justify_content": null,
       "justify_items": null,
       "left": null,
       "margin": null,
       "max_height": null,
       "max_width": null,
       "min_height": null,
       "min_width": null,
       "object_fit": null,
       "object_position": null,
       "order": null,
       "overflow": null,
       "overflow_x": null,
       "overflow_y": null,
       "padding": null,
       "right": null,
       "top": null,
       "visibility": null,
       "width": null
      }
     },
     "1588d45fa44d4c1f9a57480dd08e2740": {
      "model_module": "@jupyter-widgets/controls",
      "model_module_version": "1.5.0",
      "model_name": "FloatProgressModel",
      "state": {
       "_dom_classes": [],
       "_model_module": "@jupyter-widgets/controls",
       "_model_module_version": "1.5.0",
       "_model_name": "FloatProgressModel",
       "_view_count": null,
       "_view_module": "@jupyter-widgets/controls",
       "_view_module_version": "1.5.0",
       "_view_name": "ProgressView",
       "bar_style": "success",
       "description": "Downloading: 100%",
       "description_tooltip": null,
       "layout": "IPY_MODEL_9afc4c10b6f84c0b8827ec173b4225a7",
       "max": 536063208.0,
       "min": 0.0,
       "orientation": "horizontal",
       "style": "IPY_MODEL_34f825dbc8614170ae9262297f1b62ec",
       "value": 536063208.0
      }
     },
     "1c1cc0b7ac7c400eb3e3985791c8bfc3": {
      "model_module": "@jupyter-widgets/base",
      "model_module_version": "1.2.0",
      "model_name": "LayoutModel",
      "state": {
       "_model_module": "@jupyter-widgets/base",
       "_model_module_version": "1.2.0",
       "_model_name": "LayoutModel",
       "_view_count": null,
       "_view_module": "@jupyter-widgets/base",
       "_view_module_version": "1.2.0",
       "_view_name": "LayoutView",
       "align_content": null,
       "align_items": null,
       "align_self": null,
       "border": null,
       "bottom": null,
       "display": null,
       "flex": null,
       "flex_flow": null,
       "grid_area": null,
       "grid_auto_columns": null,
       "grid_auto_flow": null,
       "grid_auto_rows": null,
       "grid_column": null,
       "grid_gap": null,
       "grid_row": null,
       "grid_template_areas": null,
       "grid_template_columns": null,
       "grid_template_rows": null,
       "height": null,
       "justify_content": null,
       "justify_items": null,
       "left": null,
       "margin": null,
       "max_height": null,
       "max_width": null,
       "min_height": null,
       "min_width": null,
       "object_fit": null,
       "object_position": null,
       "order": null,
       "overflow": null,
       "overflow_x": null,
       "overflow_y": null,
       "padding": null,
       "right": null,
       "top": null,
       "visibility": null,
       "width": null
      }
     },
     "219a43dc1c0e450b907e49ab754cbc95": {
      "model_module": "@jupyter-widgets/controls",
      "model_module_version": "1.5.0",
      "model_name": "HBoxModel",
      "state": {
       "_dom_classes": [],
       "_model_module": "@jupyter-widgets/controls",
       "_model_module_version": "1.5.0",
       "_model_name": "HBoxModel",
       "_view_count": null,
       "_view_module": "@jupyter-widgets/controls",
       "_view_module_version": "1.5.0",
       "_view_name": "HBoxView",
       "box_style": "",
       "children": [
        "IPY_MODEL_9a634aaa177c4bf59987df9e6153b5da",
        "IPY_MODEL_73a6f965d0db45b4b65dc0a1130a28d1"
       ],
       "layout": "IPY_MODEL_dc6bdc8163bf4f09a6b992f5be13c3b5"
      }
     },
     "2d089fe6c2314d2aa8ddd1038e84944c": {
      "model_module": "@jupyter-widgets/controls",
      "model_module_version": "1.5.0",
      "model_name": "DescriptionStyleModel",
      "state": {
       "_model_module": "@jupyter-widgets/controls",
       "_model_module_version": "1.5.0",
       "_model_name": "DescriptionStyleModel",
       "_view_count": null,
       "_view_module": "@jupyter-widgets/base",
       "_view_module_version": "1.2.0",
       "_view_name": "StyleView",
       "description_width": ""
      }
     },
     "3045db1682ed4161841000ac5c0243e7": {
      "model_module": "@jupyter-widgets/controls",
      "model_module_version": "1.5.0",
      "model_name": "DescriptionStyleModel",
      "state": {
       "_model_module": "@jupyter-widgets/controls",
       "_model_module_version": "1.5.0",
       "_model_name": "DescriptionStyleModel",
       "_view_count": null,
       "_view_module": "@jupyter-widgets/base",
       "_view_module_version": "1.2.0",
       "_view_name": "StyleView",
       "description_width": ""
      }
     },
     "34468c5cae30483f95bc5cd5fda1f7b2": {
      "model_module": "@jupyter-widgets/controls",
      "model_module_version": "1.5.0",
      "model_name": "HTMLModel",
      "state": {
       "_dom_classes": [],
       "_model_module": "@jupyter-widgets/controls",
       "_model_module_version": "1.5.0",
       "_model_name": "HTMLModel",
       "_view_count": null,
       "_view_module": "@jupyter-widgets/controls",
       "_view_module_version": "1.5.0",
       "_view_name": "HTMLView",
       "description": "",
       "description_tooltip": null,
       "layout": "IPY_MODEL_0ff8bbd97d7849c7ab49cbdaf0a7213d",
       "placeholder": "​",
       "style": "IPY_MODEL_3045db1682ed4161841000ac5c0243e7",
       "value": " 536M/536M [00:32&lt;00:00, 16.7MB/s]"
      }
     },
     "34f825dbc8614170ae9262297f1b62ec": {
      "model_module": "@jupyter-widgets/controls",
      "model_module_version": "1.5.0",
      "model_name": "ProgressStyleModel",
      "state": {
       "_model_module": "@jupyter-widgets/controls",
       "_model_module_version": "1.5.0",
       "_model_name": "ProgressStyleModel",
       "_view_count": null,
       "_view_module": "@jupyter-widgets/base",
       "_view_module_version": "1.2.0",
       "_view_name": "StyleView",
       "bar_color": null,
       "description_width": "initial"
      }
     },
     "35395e9929f24900959fd2d3967d7c60": {
      "model_module": "@jupyter-widgets/controls",
      "model_module_version": "1.5.0",
      "model_name": "FloatProgressModel",
      "state": {
       "_dom_classes": [],
       "_model_module": "@jupyter-widgets/controls",
       "_model_module_version": "1.5.0",
       "_model_name": "FloatProgressModel",
       "_view_count": null,
       "_view_module": "@jupyter-widgets/controls",
       "_view_module_version": "1.5.0",
       "_view_name": "ProgressView",
       "bar_style": "success",
       "description": "Downloading: 100%",
       "description_tooltip": null,
       "layout": "IPY_MODEL_c7a3981d203f4e5180ac14236660d415",
       "max": 231508.0,
       "min": 0.0,
       "orientation": "horizontal",
       "style": "IPY_MODEL_c17f162e7f3f4b17b0c62182f738dd02",
       "value": 231508.0
      }
     },
     "3b865f9068d64e70bf3711d1c22c49d3": {
      "model_module": "@jupyter-widgets/base",
      "model_module_version": "1.2.0",
      "model_name": "LayoutModel",
      "state": {
       "_model_module": "@jupyter-widgets/base",
       "_model_module_version": "1.2.0",
       "_model_name": "LayoutModel",
       "_view_count": null,
       "_view_module": "@jupyter-widgets/base",
       "_view_module_version": "1.2.0",
       "_view_name": "LayoutView",
       "align_content": null,
       "align_items": null,
       "align_self": null,
       "border": null,
       "bottom": null,
       "display": null,
       "flex": null,
       "flex_flow": null,
       "grid_area": null,
       "grid_auto_columns": null,
       "grid_auto_flow": null,
       "grid_auto_rows": null,
       "grid_column": null,
       "grid_gap": null,
       "grid_row": null,
       "grid_template_areas": null,
       "grid_template_columns": null,
       "grid_template_rows": null,
       "height": null,
       "justify_content": null,
       "justify_items": null,
       "left": null,
       "margin": null,
       "max_height": null,
       "max_width": null,
       "min_height": null,
       "min_width": null,
       "object_fit": null,
       "object_position": null,
       "order": null,
       "overflow": null,
       "overflow_x": null,
       "overflow_y": null,
       "padding": null,
       "right": null,
       "top": null,
       "visibility": null,
       "width": null
      }
     },
     "531917b2aa0e4904b99e953bfab6b9a2": {
      "model_module": "@jupyter-widgets/controls",
      "model_module_version": "1.5.0",
      "model_name": "HBoxModel",
      "state": {
       "_dom_classes": [],
       "_model_module": "@jupyter-widgets/controls",
       "_model_module_version": "1.5.0",
       "_model_name": "HBoxModel",
       "_view_count": null,
       "_view_module": "@jupyter-widgets/controls",
       "_view_module_version": "1.5.0",
       "_view_name": "HBoxView",
       "box_style": "",
       "children": [
        "IPY_MODEL_35395e9929f24900959fd2d3967d7c60",
        "IPY_MODEL_da9eaef024e44baa9fde704053646fa6"
       ],
       "layout": "IPY_MODEL_d4f65c68c57f41cf934dab20f6d5df29"
      }
     },
     "73a6f965d0db45b4b65dc0a1130a28d1": {
      "model_module": "@jupyter-widgets/controls",
      "model_module_version": "1.5.0",
      "model_name": "HTMLModel",
      "state": {
       "_dom_classes": [],
       "_model_module": "@jupyter-widgets/controls",
       "_model_module_version": "1.5.0",
       "_model_name": "HTMLModel",
       "_view_count": null,
       "_view_module": "@jupyter-widgets/controls",
       "_view_module_version": "1.5.0",
       "_view_name": "HTMLView",
       "description": "",
       "description_tooltip": null,
       "layout": "IPY_MODEL_b40621bc026c437b9795f4c71b75b546",
       "placeholder": "​",
       "style": "IPY_MODEL_2d089fe6c2314d2aa8ddd1038e84944c",
       "value": " 433/433 [00:00&lt;00:00, 460B/s]"
      }
     },
     "7b5cb8828c9d4385b926ce9a233e98b1": {
      "model_module": "@jupyter-widgets/base",
      "model_module_version": "1.2.0",
      "model_name": "LayoutModel",
      "state": {
       "_model_module": "@jupyter-widgets/base",
       "_model_module_version": "1.2.0",
       "_model_name": "LayoutModel",
       "_view_count": null,
       "_view_module": "@jupyter-widgets/base",
       "_view_module_version": "1.2.0",
       "_view_name": "LayoutView",
       "align_content": null,
       "align_items": null,
       "align_self": null,
       "border": null,
       "bottom": null,
       "display": null,
       "flex": null,
       "flex_flow": null,
       "grid_area": null,
       "grid_auto_columns": null,
       "grid_auto_flow": null,
       "grid_auto_rows": null,
       "grid_column": null,
       "grid_gap": null,
       "grid_row": null,
       "grid_template_areas": null,
       "grid_template_columns": null,
       "grid_template_rows": null,
       "height": null,
       "justify_content": null,
       "justify_items": null,
       "left": null,
       "margin": null,
       "max_height": null,
       "max_width": null,
       "min_height": null,
       "min_width": null,
       "object_fit": null,
       "object_position": null,
       "order": null,
       "overflow": null,
       "overflow_x": null,
       "overflow_y": null,
       "padding": null,
       "right": null,
       "top": null,
       "visibility": null,
       "width": null
      }
     },
     "9a634aaa177c4bf59987df9e6153b5da": {
      "model_module": "@jupyter-widgets/controls",
      "model_module_version": "1.5.0",
      "model_name": "FloatProgressModel",
      "state": {
       "_dom_classes": [],
       "_model_module": "@jupyter-widgets/controls",
       "_model_module_version": "1.5.0",
       "_model_name": "FloatProgressModel",
       "_view_count": null,
       "_view_module": "@jupyter-widgets/controls",
       "_view_module_version": "1.5.0",
       "_view_name": "ProgressView",
       "bar_style": "success",
       "description": "Downloading: 100%",
       "description_tooltip": null,
       "layout": "IPY_MODEL_1c1cc0b7ac7c400eb3e3985791c8bfc3",
       "max": 433.0,
       "min": 0.0,
       "orientation": "horizontal",
       "style": "IPY_MODEL_02ed4b0ff36c41158dc207f21ccdfe93",
       "value": 433.0
      }
     },
     "9afc4c10b6f84c0b8827ec173b4225a7": {
      "model_module": "@jupyter-widgets/base",
      "model_module_version": "1.2.0",
      "model_name": "LayoutModel",
      "state": {
       "_model_module": "@jupyter-widgets/base",
       "_model_module_version": "1.2.0",
       "_model_name": "LayoutModel",
       "_view_count": null,
       "_view_module": "@jupyter-widgets/base",
       "_view_module_version": "1.2.0",
       "_view_name": "LayoutView",
       "align_content": null,
       "align_items": null,
       "align_self": null,
       "border": null,
       "bottom": null,
       "display": null,
       "flex": null,
       "flex_flow": null,
       "grid_area": null,
       "grid_auto_columns": null,
       "grid_auto_flow": null,
       "grid_auto_rows": null,
       "grid_column": null,
       "grid_gap": null,
       "grid_row": null,
       "grid_template_areas": null,
       "grid_template_columns": null,
       "grid_template_rows": null,
       "height": null,
       "justify_content": null,
       "justify_items": null,
       "left": null,
       "margin": null,
       "max_height": null,
       "max_width": null,
       "min_height": null,
       "min_width": null,
       "object_fit": null,
       "object_position": null,
       "order": null,
       "overflow": null,
       "overflow_x": null,
       "overflow_y": null,
       "padding": null,
       "right": null,
       "top": null,
       "visibility": null,
       "width": null
      }
     },
     "b40621bc026c437b9795f4c71b75b546": {
      "model_module": "@jupyter-widgets/base",
      "model_module_version": "1.2.0",
      "model_name": "LayoutModel",
      "state": {
       "_model_module": "@jupyter-widgets/base",
       "_model_module_version": "1.2.0",
       "_model_name": "LayoutModel",
       "_view_count": null,
       "_view_module": "@jupyter-widgets/base",
       "_view_module_version": "1.2.0",
       "_view_name": "LayoutView",
       "align_content": null,
       "align_items": null,
       "align_self": null,
       "border": null,
       "bottom": null,
       "display": null,
       "flex": null,
       "flex_flow": null,
       "grid_area": null,
       "grid_auto_columns": null,
       "grid_auto_flow": null,
       "grid_auto_rows": null,
       "grid_column": null,
       "grid_gap": null,
       "grid_row": null,
       "grid_template_areas": null,
       "grid_template_columns": null,
       "grid_template_rows": null,
       "height": null,
       "justify_content": null,
       "justify_items": null,
       "left": null,
       "margin": null,
       "max_height": null,
       "max_width": null,
       "min_height": null,
       "min_width": null,
       "object_fit": null,
       "object_position": null,
       "order": null,
       "overflow": null,
       "overflow_x": null,
       "overflow_y": null,
       "padding": null,
       "right": null,
       "top": null,
       "visibility": null,
       "width": null
      }
     },
     "c17f162e7f3f4b17b0c62182f738dd02": {
      "model_module": "@jupyter-widgets/controls",
      "model_module_version": "1.5.0",
      "model_name": "ProgressStyleModel",
      "state": {
       "_model_module": "@jupyter-widgets/controls",
       "_model_module_version": "1.5.0",
       "_model_name": "ProgressStyleModel",
       "_view_count": null,
       "_view_module": "@jupyter-widgets/base",
       "_view_module_version": "1.2.0",
       "_view_name": "StyleView",
       "bar_color": null,
       "description_width": "initial"
      }
     },
     "c7a3981d203f4e5180ac14236660d415": {
      "model_module": "@jupyter-widgets/base",
      "model_module_version": "1.2.0",
      "model_name": "LayoutModel",
      "state": {
       "_model_module": "@jupyter-widgets/base",
       "_model_module_version": "1.2.0",
       "_model_name": "LayoutModel",
       "_view_count": null,
       "_view_module": "@jupyter-widgets/base",
       "_view_module_version": "1.2.0",
       "_view_name": "LayoutView",
       "align_content": null,
       "align_items": null,
       "align_self": null,
       "border": null,
       "bottom": null,
       "display": null,
       "flex": null,
       "flex_flow": null,
       "grid_area": null,
       "grid_auto_columns": null,
       "grid_auto_flow": null,
       "grid_auto_rows": null,
       "grid_column": null,
       "grid_gap": null,
       "grid_row": null,
       "grid_template_areas": null,
       "grid_template_columns": null,
       "grid_template_rows": null,
       "height": null,
       "justify_content": null,
       "justify_items": null,
       "left": null,
       "margin": null,
       "max_height": null,
       "max_width": null,
       "min_height": null,
       "min_width": null,
       "object_fit": null,
       "object_position": null,
       "order": null,
       "overflow": null,
       "overflow_x": null,
       "overflow_y": null,
       "padding": null,
       "right": null,
       "top": null,
       "visibility": null,
       "width": null
      }
     },
     "cc337d0d179244d89e7f2bfa7d6b6bea": {
      "model_module": "@jupyter-widgets/controls",
      "model_module_version": "1.5.0",
      "model_name": "HBoxModel",
      "state": {
       "_dom_classes": [],
       "_model_module": "@jupyter-widgets/controls",
       "_model_module_version": "1.5.0",
       "_model_name": "HBoxModel",
       "_view_count": null,
       "_view_module": "@jupyter-widgets/controls",
       "_view_module_version": "1.5.0",
       "_view_name": "HBoxView",
       "box_style": "",
       "children": [
        "IPY_MODEL_1588d45fa44d4c1f9a57480dd08e2740",
        "IPY_MODEL_34468c5cae30483f95bc5cd5fda1f7b2"
       ],
       "layout": "IPY_MODEL_3b865f9068d64e70bf3711d1c22c49d3"
      }
     },
     "d4f65c68c57f41cf934dab20f6d5df29": {
      "model_module": "@jupyter-widgets/base",
      "model_module_version": "1.2.0",
      "model_name": "LayoutModel",
      "state": {
       "_model_module": "@jupyter-widgets/base",
       "_model_module_version": "1.2.0",
       "_model_name": "LayoutModel",
       "_view_count": null,
       "_view_module": "@jupyter-widgets/base",
       "_view_module_version": "1.2.0",
       "_view_name": "LayoutView",
       "align_content": null,
       "align_items": null,
       "align_self": null,
       "border": null,
       "bottom": null,
       "display": null,
       "flex": null,
       "flex_flow": null,
       "grid_area": null,
       "grid_auto_columns": null,
       "grid_auto_flow": null,
       "grid_auto_rows": null,
       "grid_column": null,
       "grid_gap": null,
       "grid_row": null,
       "grid_template_areas": null,
       "grid_template_columns": null,
       "grid_template_rows": null,
       "height": null,
       "justify_content": null,
       "justify_items": null,
       "left": null,
       "margin": null,
       "max_height": null,
       "max_width": null,
       "min_height": null,
       "min_width": null,
       "object_fit": null,
       "object_position": null,
       "order": null,
       "overflow": null,
       "overflow_x": null,
       "overflow_y": null,
       "padding": null,
       "right": null,
       "top": null,
       "visibility": null,
       "width": null
      }
     },
     "da9eaef024e44baa9fde704053646fa6": {
      "model_module": "@jupyter-widgets/controls",
      "model_module_version": "1.5.0",
      "model_name": "HTMLModel",
      "state": {
       "_dom_classes": [],
       "_model_module": "@jupyter-widgets/controls",
       "_model_module_version": "1.5.0",
       "_model_name": "HTMLModel",
       "_view_count": null,
       "_view_module": "@jupyter-widgets/controls",
       "_view_module_version": "1.5.0",
       "_view_name": "HTMLView",
       "description": "",
       "description_tooltip": null,
       "layout": "IPY_MODEL_7b5cb8828c9d4385b926ce9a233e98b1",
       "placeholder": "​",
       "style": "IPY_MODEL_ecda18dacca249e1867911fa83cea110",
       "value": " 232k/232k [00:00&lt;00:00, 638kB/s]"
      }
     },
     "dc6bdc8163bf4f09a6b992f5be13c3b5": {
      "model_module": "@jupyter-widgets/base",
      "model_module_version": "1.2.0",
      "model_name": "LayoutModel",
      "state": {
       "_model_module": "@jupyter-widgets/base",
       "_model_module_version": "1.2.0",
       "_model_name": "LayoutModel",
       "_view_count": null,
       "_view_module": "@jupyter-widgets/base",
       "_view_module_version": "1.2.0",
       "_view_name": "LayoutView",
       "align_content": null,
       "align_items": null,
       "align_self": null,
       "border": null,
       "bottom": null,
       "display": null,
       "flex": null,
       "flex_flow": null,
       "grid_area": null,
       "grid_auto_columns": null,
       "grid_auto_flow": null,
       "grid_auto_rows": null,
       "grid_column": null,
       "grid_gap": null,
       "grid_row": null,
       "grid_template_areas": null,
       "grid_template_columns": null,
       "grid_template_rows": null,
       "height": null,
       "justify_content": null,
       "justify_items": null,
       "left": null,
       "margin": null,
       "max_height": null,
       "max_width": null,
       "min_height": null,
       "min_width": null,
       "object_fit": null,
       "object_position": null,
       "order": null,
       "overflow": null,
       "overflow_x": null,
       "overflow_y": null,
       "padding": null,
       "right": null,
       "top": null,
       "visibility": null,
       "width": null
      }
     },
     "ecda18dacca249e1867911fa83cea110": {
      "model_module": "@jupyter-widgets/controls",
      "model_module_version": "1.5.0",
      "model_name": "DescriptionStyleModel",
      "state": {
       "_model_module": "@jupyter-widgets/controls",
       "_model_module_version": "1.5.0",
       "_model_name": "DescriptionStyleModel",
       "_view_count": null,
       "_view_module": "@jupyter-widgets/base",
       "_view_module_version": "1.2.0",
       "_view_name": "StyleView",
       "description_width": ""
      }
     }
    },
    "version_major": 2,
    "version_minor": 0
   }
  }
 },
 "nbformat": 4,
 "nbformat_minor": 4
}
